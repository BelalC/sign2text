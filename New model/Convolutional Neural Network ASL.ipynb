{
 "cells": [
  {
   "cell_type": "code",
   "execution_count": 1,
   "id": "c2b5ef73",
   "metadata": {},
   "outputs": [],
   "source": [
    "import pickle\n",
    "import tensorflow as tf\n",
    "from tensorflow.keras.models import Sequential\n",
    "from tensorflow.keras.layers import Dense, Dropout, Activation, Flatten, Conv2D, MaxPooling2D"
   ]
  },
  {
   "cell_type": "code",
   "execution_count": 2,
   "id": "114799f9",
   "metadata": {},
   "outputs": [],
   "source": [
    "X = pickle.load(open(\"f.pickle\",\"rb\"))\n",
    "y = pickle.load(open(\"l.pickle\",\"rb\"))"
   ]
  },
  {
   "cell_type": "code",
   "execution_count": 3,
   "id": "5fc3cc64",
   "metadata": {},
   "outputs": [],
   "source": [
    "model = Sequential()\n",
    "X = X/255.0"
   ]
  },
  {
   "cell_type": "code",
   "execution_count": 4,
   "id": "3d01422e",
   "metadata": {},
   "outputs": [],
   "source": [
    "model.add(Conv2D(128, (3,3) ,input_shape = X.shape[1:]))\n",
    "model.add(Activation(\"relu\"))\n",
    "model.add(MaxPooling2D(pool_size=(2,2)))"
   ]
  },
  {
   "cell_type": "code",
   "execution_count": 5,
   "id": "a7275085",
   "metadata": {},
   "outputs": [],
   "source": [
    "model.add(Conv2D(128, (3,3)))\n",
    "model.add(Activation(\"relu\"))\n",
    "model.add(MaxPooling2D(pool_size=(2,2)))"
   ]
  },
  {
   "cell_type": "code",
   "execution_count": 6,
   "id": "8c3b3d69",
   "metadata": {},
   "outputs": [],
   "source": [
    "model.add(Conv2D(128, (4,4)))\n",
    "model.add(Activation(\"relu\"))\n",
    "model.add(MaxPooling2D(pool_size=(3,3)))"
   ]
  },
  {
   "cell_type": "code",
   "execution_count": 7,
   "id": "79ca7eb2",
   "metadata": {},
   "outputs": [],
   "source": [
    "model.add(Flatten())\n",
    "model.add(Dense(64))\n",
    "model.add(Activation(\"relu\"))"
   ]
  },
  {
   "cell_type": "code",
   "execution_count": 8,
   "id": "c6dbbf42",
   "metadata": {},
   "outputs": [],
   "source": [
    "model.add(tf.keras.layers.Dense(26, activation=tf.nn.softmax))"
   ]
  },
  {
   "cell_type": "code",
   "execution_count": 9,
   "id": "7f58a439",
   "metadata": {},
   "outputs": [
    {
     "name": "stdout",
     "output_type": "stream",
     "text": [
      "Epoch 1/10\n",
      "854/854 [==============================] - 499s 580ms/step - loss: 1.3942 - accuracy: 0.5712 - val_loss: 0.5300 - val_accuracy: 0.8287\n",
      "Epoch 2/10\n",
      "854/854 [==============================] - 487s 571ms/step - loss: 0.3203 - accuracy: 0.8980 - val_loss: 0.2004 - val_accuracy: 0.9380\n",
      "Epoch 3/10\n",
      "854/854 [==============================] - 488s 571ms/step - loss: 0.1634 - accuracy: 0.9474 - val_loss: 0.1694 - val_accuracy: 0.9475\n",
      "Epoch 4/10\n",
      "854/854 [==============================] - 525s 615ms/step - loss: 0.1229 - accuracy: 0.9609 - val_loss: 0.0937 - val_accuracy: 0.9692\n",
      "Epoch 5/10\n",
      "854/854 [==============================] - 496s 581ms/step - loss: 0.0890 - accuracy: 0.9715 - val_loss: 0.0824 - val_accuracy: 0.9754\n",
      "Epoch 6/10\n",
      "854/854 [==============================] - 489s 573ms/step - loss: 0.0734 - accuracy: 0.9768 - val_loss: 0.0627 - val_accuracy: 0.9828\n",
      "Epoch 7/10\n",
      "854/854 [==============================] - 488s 572ms/step - loss: 0.0654 - accuracy: 0.9808 - val_loss: 0.0930 - val_accuracy: 0.9688\n",
      "Epoch 8/10\n",
      "854/854 [==============================] - 492s 576ms/step - loss: 0.0582 - accuracy: 0.9815 - val_loss: 0.0528 - val_accuracy: 0.9826\n",
      "Epoch 9/10\n",
      "854/854 [==============================] - 490s 573ms/step - loss: 0.0536 - accuracy: 0.9836 - val_loss: 0.0403 - val_accuracy: 0.9879\n",
      "Epoch 10/10\n",
      "854/854 [==============================] - 488s 572ms/step - loss: 0.0385 - accuracy: 0.9882 - val_loss: 0.2007 - val_accuracy: 0.9435\n"
     ]
    },
    {
     "data": {
      "text/plain": [
       "<keras.callbacks.History at 0x201ca7686d0>"
      ]
     },
     "execution_count": 9,
     "metadata": {},
     "output_type": "execute_result"
    }
   ],
   "source": [
    "model.compile(optimizer='adam', loss='sparse_categorical_crossentropy',metrics=['accuracy'])\n",
    "model.fit(X,y,epochs=10, batch_size=64, validation_split=0.3)"
   ]
  },
  {
   "cell_type": "code",
   "execution_count": 10,
   "id": "cd27ca1c",
   "metadata": {},
   "outputs": [
    {
     "name": "stdout",
     "output_type": "stream",
     "text": [
      "INFO:tensorflow:Assets written to: ASL.model\\assets\n"
     ]
    }
   ],
   "source": [
    "model.save('ASL.model')"
   ]
  },
  {
   "cell_type": "code",
   "execution_count": null,
   "id": "017b19dd",
   "metadata": {},
   "outputs": [],
   "source": []
  }
 ],
 "metadata": {
  "kernelspec": {
   "display_name": "Python 3",
   "language": "python",
   "name": "python3"
  },
  "language_info": {
   "codemirror_mode": {
    "name": "ipython",
    "version": 3
   },
   "file_extension": ".py",
   "mimetype": "text/x-python",
   "name": "python",
   "nbconvert_exporter": "python",
   "pygments_lexer": "ipython3",
   "version": "3.9.0"
  }
 },
 "nbformat": 4,
 "nbformat_minor": 5
}
