{
 "cells": [
  {
   "cell_type": "code",
   "execution_count": 6,
   "id": "cea72d66",
   "metadata": {},
   "outputs": [],
   "source": [
    "import numpy\n",
    "import cv2\n",
    "import os\n",
    "import matplotlib.pyplot\n",
    "import random\n",
    "import pickle"
   ]
  },
  {
   "cell_type": "code",
   "execution_count": 7,
   "id": "09fd269a",
   "metadata": {},
   "outputs": [],
   "source": [
    "CATEGORIES = []\n",
    "\n",
    "for i in range(65,91):\n",
    "    CATEGORIES.append(chr(i))"
   ]
  },
  {
   "cell_type": "code",
   "execution_count": 8,
   "id": "9028286f",
   "metadata": {},
   "outputs": [],
   "source": [
    "DIR = \"Images\""
   ]
  },
  {
   "cell_type": "code",
   "execution_count": 9,
   "id": "7082eef6",
   "metadata": {},
   "outputs": [],
   "source": [
    "training_data = []\n",
    "def create_training_data():\n",
    "    \n",
    "    for category in CATEGORIES:\n",
    "        path = os.path.join(DIR, category)\n",
    "        class_number = CATEGORIES.index(category)\n",
    "        try:\n",
    "            for imgs in os.listdir(path):\n",
    "                img_array = cv2.imread(os.path.join(path,imgs))\n",
    "                dim = (90,90)\n",
    "                img_array = cv2.resize(img_array, dim)\n",
    "                training_data.append([img_array, class_number])\n",
    "        except Exception as ex:\n",
    "            pass\n"
   ]
  },
  {
   "cell_type": "code",
   "execution_count": 10,
   "id": "f60cda31",
   "metadata": {},
   "outputs": [],
   "source": [
    "l1 = create_training_data()"
   ]
  },
  {
   "cell_type": "code",
   "execution_count": 11,
   "id": "833ea465",
   "metadata": {},
   "outputs": [],
   "source": [
    "random.shuffle(training_data)\n"
   ]
  },
  {
   "cell_type": "code",
   "execution_count": 12,
   "id": "31920b05",
   "metadata": {},
   "outputs": [],
   "source": [
    "l = []\n",
    "f = []\n",
    "\n",
    "for features, label in training_data:\n",
    "    l.append(label)\n",
    "    f.append(features)\n",
    "\n",
    "f = numpy.array(f).reshape(-1,90,90,3)\n",
    "l = numpy.array(l)"
   ]
  },
  {
   "cell_type": "code",
   "execution_count": null,
   "id": "3df7e80e",
   "metadata": {},
   "outputs": [],
   "source": [
    "pickle_out = open(\"f.pickle\",\"wb\")\n",
    "pickle.dump(f,pickle_out)\n",
    "pickle_out.close()"
   ]
  },
  {
   "cell_type": "code",
   "execution_count": null,
   "id": "f9e9b722",
   "metadata": {},
   "outputs": [],
   "source": [
    "pickle_out = open(\"l.pickle\",\"wb\")\n",
    "pickle.dump(l,pickle_out)\n",
    "pickle_out.close()"
   ]
  },
  {
   "cell_type": "code",
   "execution_count": null,
   "id": "a9ad2e4e",
   "metadata": {},
   "outputs": [],
   "source": []
  }
 ],
 "metadata": {
  "kernelspec": {
   "display_name": "Python 3",
   "language": "python",
   "name": "python3"
  },
  "language_info": {
   "codemirror_mode": {
    "name": "ipython",
    "version": 3
   },
   "file_extension": ".py",
   "mimetype": "text/x-python",
   "name": "python",
   "nbconvert_exporter": "python",
   "pygments_lexer": "ipython3",
   "version": "3.9.0"
  }
 },
 "nbformat": 4,
 "nbformat_minor": 5
}
