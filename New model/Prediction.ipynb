{
 "cells": [
  {
   "cell_type": "code",
   "execution_count": 62,
   "id": "30d21aff",
   "metadata": {},
   "outputs": [],
   "source": [
    "import numpy\n",
    "import cv2\n",
    "import tensorflow as tf"
   ]
  },
  {
   "cell_type": "code",
   "execution_count": 63,
   "id": "d8a30030",
   "metadata": {},
   "outputs": [],
   "source": [
    "CATEGORIES = []\n",
    "img_name = \"Test images/Q_test.jpg\"\n",
    "for i in range(65,91):\n",
    "    CATEGORIES.append(chr(i))"
   ]
  },
  {
   "cell_type": "code",
   "execution_count": 64,
   "id": "03d8f6c1",
   "metadata": {},
   "outputs": [],
   "source": [
    "def prepare(img):\n",
    "    img_array = cv2.imread(img, cv2.IMREAD_GRAYSCALE)\n",
    "    dim = (50,50)\n",
    "    try:\n",
    "        img_array = cv2.resize(img_array, dim)\n",
    "        return img_array.reshape(-1,50,50,1)\n",
    "    except Exception:\n",
    "        pass\n",
    "    return -1"
   ]
  },
  {
   "cell_type": "code",
   "execution_count": 65,
   "id": "87c18d9c",
   "metadata": {},
   "outputs": [],
   "source": [
    "model = tf.keras.models.load_model(\"ASL.model\")"
   ]
  },
  {
   "cell_type": "code",
   "execution_count": 66,
   "id": "82d1a835",
   "metadata": {},
   "outputs": [],
   "source": [
    "prediction = model.predict([prepare(img_name)])"
   ]
  },
  {
   "cell_type": "code",
   "execution_count": 67,
   "id": "ba7cbb12",
   "metadata": {},
   "outputs": [],
   "source": [
    "temp = prediction.tolist()"
   ]
  },
  {
   "cell_type": "code",
   "execution_count": 68,
   "id": "aa2a205f",
   "metadata": {},
   "outputs": [],
   "source": [
    "t = temp[0]"
   ]
  },
  {
   "cell_type": "code",
   "execution_count": 69,
   "id": "6f370062",
   "metadata": {},
   "outputs": [],
   "source": [
    "y = max(t)"
   ]
  },
  {
   "cell_type": "code",
   "execution_count": 70,
   "id": "80d47c95",
   "metadata": {},
   "outputs": [],
   "source": [
    "n = t.index(y)\n",
    "\n",
    "alphabet = CATEGORIES[n]"
   ]
  },
  {
   "cell_type": "code",
   "execution_count": 71,
   "id": "6a3197f7",
   "metadata": {},
   "outputs": [
    {
     "data": {
      "text/plain": [
       "-1"
      ]
     },
     "execution_count": 71,
     "metadata": {},
     "output_type": "execute_result"
    }
   ],
   "source": [
    "img = cv2.imread(img_name)\n",
    "img = cv2.resize(img, (500,500))\n",
    "cv2.putText(img, str(alphabet), (10,70), cv2.FONT_HERSHEY_COMPLEX, 3, (255,255,255), 3)\n",
    "cv2.imshow(\"Alphabet\", img)\n",
    "cv2.waitKey(0)"
   ]
  },
  {
   "cell_type": "code",
   "execution_count": null,
   "id": "5b65603a",
   "metadata": {},
   "outputs": [],
   "source": []
  }
 ],
 "metadata": {
  "kernelspec": {
   "display_name": "Python 3",
   "language": "python",
   "name": "python3"
  },
  "language_info": {
   "codemirror_mode": {
    "name": "ipython",
    "version": 3
   },
   "file_extension": ".py",
   "mimetype": "text/x-python",
   "name": "python",
   "nbconvert_exporter": "python",
   "pygments_lexer": "ipython3",
   "version": "3.9.0"
  }
 },
 "nbformat": 4,
 "nbformat_minor": 5
}
